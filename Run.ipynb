{
 "cells": [
  {
   "cell_type": "code",
   "execution_count": 1,
   "metadata": {},
   "outputs": [
    {
     "name": "stderr",
     "output_type": "stream",
     "text": [
      "2021-10-18 11:19:51.245637: W tensorflow/stream_executor/platform/default/dso_loader.cc:64] Could not load dynamic library 'libcudart.so.11.0'; dlerror: libcudart.so.11.0: cannot open shared object file: No such file or directory; LD_LIBRARY_PATH: /usr/lib/cuda/include:/usr/lib/cuda/lib64:\n",
      "2021-10-18 11:19:51.245662: I tensorflow/stream_executor/cuda/cudart_stub.cc:29] Ignore above cudart dlerror if you do not have a GPU set up on your machine.\n"
     ]
    }
   ],
   "source": [
    "import cv2\n",
    "import uuid\n",
    "import mediapipe as mp\n",
    "import numpy as np\n",
    "\n",
    "from tensorflow.keras.models import load_model\n"
   ]
  },
  {
   "cell_type": "code",
   "execution_count": 2,
   "metadata": {},
   "outputs": [
    {
     "name": "stderr",
     "output_type": "stream",
     "text": [
      "2021-10-18 11:19:52.361241: I tensorflow/stream_executor/cuda/cuda_gpu_executor.cc:937] successful NUMA node read from SysFS had negative value (-1), but there must be at least one NUMA node, so returning NUMA node zero\n",
      "2021-10-18 11:19:52.362199: W tensorflow/stream_executor/platform/default/dso_loader.cc:64] Could not load dynamic library 'libcudart.so.11.0'; dlerror: libcudart.so.11.0: cannot open shared object file: No such file or directory; LD_LIBRARY_PATH: /usr/lib/cuda/include:/usr/lib/cuda/lib64:\n",
      "2021-10-18 11:19:52.362480: W tensorflow/stream_executor/platform/default/dso_loader.cc:64] Could not load dynamic library 'libcublas.so.11'; dlerror: libcublas.so.11: cannot open shared object file: No such file or directory; LD_LIBRARY_PATH: /usr/lib/cuda/include:/usr/lib/cuda/lib64:\n",
      "2021-10-18 11:19:52.362660: W tensorflow/stream_executor/platform/default/dso_loader.cc:64] Could not load dynamic library 'libcublasLt.so.11'; dlerror: libcublasLt.so.11: cannot open shared object file: No such file or directory; LD_LIBRARY_PATH: /usr/lib/cuda/include:/usr/lib/cuda/lib64:\n",
      "2021-10-18 11:19:52.364611: W tensorflow/stream_executor/platform/default/dso_loader.cc:64] Could not load dynamic library 'libcusolver.so.11'; dlerror: libcusolver.so.11: cannot open shared object file: No such file or directory; LD_LIBRARY_PATH: /usr/lib/cuda/include:/usr/lib/cuda/lib64:\n",
      "2021-10-18 11:19:52.364827: W tensorflow/stream_executor/platform/default/dso_loader.cc:64] Could not load dynamic library 'libcusparse.so.11'; dlerror: libcusparse.so.11: cannot open shared object file: No such file or directory; LD_LIBRARY_PATH: /usr/lib/cuda/include:/usr/lib/cuda/lib64:\n",
      "2021-10-18 11:19:52.365008: W tensorflow/stream_executor/platform/default/dso_loader.cc:64] Could not load dynamic library 'libcudnn.so.8'; dlerror: libcudnn.so.8: cannot open shared object file: No such file or directory; LD_LIBRARY_PATH: /usr/lib/cuda/include:/usr/lib/cuda/lib64:\n",
      "2021-10-18 11:19:52.365018: W tensorflow/core/common_runtime/gpu/gpu_device.cc:1835] Cannot dlopen some GPU libraries. Please make sure the missing libraries mentioned above are installed properly if you would like to use GPU. Follow the guide at https://www.tensorflow.org/install/gpu for how to download and setup the required libraries for your platform.\n",
      "Skipping registering GPU devices...\n",
      "2021-10-18 11:19:52.365770: I tensorflow/core/platform/cpu_feature_guard.cc:142] This TensorFlow binary is optimized with oneAPI Deep Neural Network Library (oneDNN) to use the following CPU instructions in performance-critical operations:  AVX2 FMA\n",
      "To enable them in other operations, rebuild TensorFlow with the appropriate compiler flags.\n"
     ]
    }
   ],
   "source": [
    "# load the model\n",
    "model = load_model('Models/model1.h5')"
   ]
  },
  {
   "cell_type": "code",
   "execution_count": 3,
   "metadata": {},
   "outputs": [
    {
     "name": "stdout",
     "output_type": "stream",
     "text": [
      "Model: \"sequential\"\n",
      "_________________________________________________________________\n",
      "Layer (type)                 Output Shape              Param #   \n",
      "=================================================================\n",
      "conv2d (Conv2D)              (None, 98, 98, 64)        1792      \n",
      "_________________________________________________________________\n",
      "activation (Activation)      (None, 98, 98, 64)        0         \n",
      "_________________________________________________________________\n",
      "max_pooling2d (MaxPooling2D) (None, 49, 49, 64)        0         \n",
      "_________________________________________________________________\n",
      "conv2d_1 (Conv2D)            (None, 47, 47, 256)       147712    \n",
      "_________________________________________________________________\n",
      "activation_1 (Activation)    (None, 47, 47, 256)       0         \n",
      "_________________________________________________________________\n",
      "max_pooling2d_1 (MaxPooling2 (None, 23, 23, 256)       0         \n",
      "_________________________________________________________________\n",
      "conv2d_2 (Conv2D)            (None, 21, 21, 128)       295040    \n",
      "_________________________________________________________________\n",
      "activation_2 (Activation)    (None, 21, 21, 128)       0         \n",
      "_________________________________________________________________\n",
      "dropout (Dropout)            (None, 21, 21, 128)       0         \n",
      "_________________________________________________________________\n",
      "conv2d_3 (Conv2D)            (None, 19, 19, 32)        36896     \n",
      "_________________________________________________________________\n",
      "activation_3 (Activation)    (None, 19, 19, 32)        0         \n",
      "_________________________________________________________________\n",
      "max_pooling2d_2 (MaxPooling2 (None, 9, 9, 32)          0         \n",
      "_________________________________________________________________\n",
      "dropout_1 (Dropout)          (None, 9, 9, 32)          0         \n",
      "_________________________________________________________________\n",
      "flatten (Flatten)            (None, 2592)              0         \n",
      "_________________________________________________________________\n",
      "dense (Dense)                (None, 100)               259300    \n",
      "_________________________________________________________________\n",
      "dense_1 (Dense)              (None, 16)                1616      \n",
      "_________________________________________________________________\n",
      "dense_2 (Dense)              (None, 2)                 34        \n",
      "_________________________________________________________________\n",
      "activation_4 (Activation)    (None, 2)                 0         \n",
      "=================================================================\n",
      "Total params: 742,390\n",
      "Trainable params: 742,390\n",
      "Non-trainable params: 0\n",
      "_________________________________________________________________\n"
     ]
    }
   ],
   "source": [
    "model.summary()"
   ]
  },
  {
   "cell_type": "code",
   "execution_count": 4,
   "metadata": {},
   "outputs": [],
   "source": [
    "# Setting up variables\n",
    "BLACK = (0, 0, 0)\n",
    "RED = (0, 0, 255)\n",
    "GREEN = (0, 255, 0)\n",
    "\n",
    "font_simplex = cv2.FONT_HERSHEY_SIMPLEX\n",
    "no_face_coords = (50, 250)\n",
    "heading_coords = (150, 30)\n",
    "thickness = 2\n",
    "font_scale = 1\n",
    "wearing_mask_message = \"Thank you for wearing mask\"\n",
    "not_wearing_mask_message = \"Please wear your mask\""
   ]
  },
  {
   "cell_type": "code",
   "execution_count": 5,
   "metadata": {},
   "outputs": [],
   "source": [
    "# Define mediapipe Face detector\n",
    "face_detection = mp.solutions.face_detection.FaceDetection()\n",
    "def get_detection(frame):\n",
    "    \n",
    "    height, width, channel = frame.shape\n",
    "    # Convert frame BGR to RGB colorspace\n",
    "    imgRGB = cv2.cvtColor(frame, cv2.COLOR_BGR2RGB)\n",
    "    # Detect results from the frame\n",
    "    result = face_detection.process(imgRGB)\n",
    "    # Extract data from result\n",
    "    try:\n",
    "        for count, detection in enumerate(result.detections):\n",
    "            # print(detection)\n",
    "            # Extract bounding box information\n",
    "            box = detection.location_data.relative_bounding_box\n",
    "            x, y, w, h = int(box.xmin*width), int(box.ymin * height), int(box.width*width), int(box.height*height)\n",
    "          \n",
    "    # If detection is not available then print No face\n",
    "    except:\n",
    "        cv2.putText(frame, \"No face found...\", no_face_coords, font_simplex, font_scale+1, BLACK, thickness+2, cv2.LINE_AA)\n",
    "    \n",
    "    return x, y, w, h"
   ]
  },
  {
   "cell_type": "code",
   "execution_count": 6,
   "metadata": {},
   "outputs": [
    {
     "name": "stderr",
     "output_type": "stream",
     "text": [
      "INFO: Created TensorFlow Lite XNNPACK delegate for CPU.\n",
      "2021-10-18 11:19:53.200991: I tensorflow/compiler/mlir/mlir_graph_optimization_pass.cc:185] None of the MLIR Optimization Passes are enabled (registered 2)\n"
     ]
    }
   ],
   "source": [
    "CATEGORIES = ['No Mask', 'Mask']\n",
    "cap = cv2.VideoCapture(0)\n",
    "while True:\n",
    "    _, frame = cap.read()\n",
    "\n",
    "    img = frame.copy()\n",
    "    try:\n",
    "        x, y, w, h = get_detection(frame)\n",
    "        # print(\"frame details: \",x,y,w,h)\n",
    "        crop_img = img[y:y+h, x:x+w]\n",
    "        crop_img = cv2.resize(crop_img, (100, 100))\n",
    "        crop_img = np.expand_dims(crop_img, axis=0)\n",
    "\n",
    "        prediction = model.predict(crop_img)\n",
    "        # print(prediction)\n",
    "\n",
    "        index = np.argmax(prediction)\n",
    "        res = CATEGORIES[index]\n",
    "        # print(res, prediction, index)\n",
    "\n",
    "        color = (0, 0, 0)\n",
    "        if index == 0:\n",
    "            # index 0 means no mask so red color\n",
    "            color = RED\n",
    "        else:\n",
    "            # index 0 means no mask so green color\n",
    "            color = GREEN\n",
    "        \n",
    "        # Draw a rectangle around the face and write the result on top of the rectangle\n",
    "        cv2.rectangle(frame, (x, y), (x+w, y+h), color, 2)\n",
    "        cv2.putText(frame, res, (x, y-10), font_simplex, 0.8, color, 2, cv2.LINE_AA)\n",
    "            \n",
    "    except Exception as e:\n",
    "        # print(e)\n",
    "        pass\n",
    "    \n",
    "    cv2.putText(frame, \"Face Mask detection\", heading_coords, font_simplex, font_scale, BLACK, thickness, cv2.LINE_AA)\n",
    "    cv2.imshow(\"frame\", frame)\n",
    "    if cv2.waitKey(1) == ord('q'):\n",
    "        cap.release()\n",
    "        cv2.destroyAllWindows()\n",
    "        exit()\n",
    "        break"
   ]
  }
 ],
 "metadata": {
  "interpreter": {
   "hash": "d10170d9abad39efbea739010597cd2867d251aed0309a074ad425af345e9e31"
  },
  "kernelspec": {
   "display_name": "Python 3.8.5 64-bit ('RunModels': conda)",
   "name": "python3"
  },
  "language_info": {
   "codemirror_mode": {
    "name": "ipython",
    "version": 3
   },
   "file_extension": ".py",
   "mimetype": "text/x-python",
   "name": "python",
   "nbconvert_exporter": "python",
   "pygments_lexer": "ipython3",
   "version": "3.8.5"
  },
  "orig_nbformat": 4
 },
 "nbformat": 4,
 "nbformat_minor": 2
}
